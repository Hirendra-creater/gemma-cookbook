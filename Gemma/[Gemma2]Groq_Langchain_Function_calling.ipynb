{
  "nbformat": 4,
  "nbformat_minor": 5,
  "metadata": {
    "colab": {
      "provenance": []
    },
    "language_info": {
      "name": "python"
    },
    "kernelspec": {
      "name": "python3",
      "display_name": "Python 3"
    }
  },
  "cells": [
    {
      "cell_type": "markdown",
      "metadata": {
        "id": "Cast6XwmzEhJ"
      },
      "source": [
        "##### Copyright 2025.\n",
        "\n",
        "# Gemma 2 Function Calling with LangChain and Groq\n",
        "\n",
        "This tutorial demonstrates how to perform **function calling** using the `gemma-2-9b-it` model hosted on [Groq Cloud](https://console.groq.com/) with **LangChain integration**.\n",
        "\n",
        "<table align=\"left\">\n",
        "  <td>\n",
        "    <a target=\"_blank\" href=\"https://colab.research.google.com/github/your-repo/gemma-groq-function-calling-langchain.ipynb\"><img src=\"https://www.tensorflow.org/images/colab_logo_32px.png\" />Run in Google Colab</a>\n",
        "  </td>\n",
        "</table>"
      ],
      "id": "Cast6XwmzEhJ"
    },
    {
      "cell_type": "code",
      "metadata": {
        "id": "h4YFKsPszEhL"
      },
      "execution_count": 1,
      "outputs": [],
      "source": [
        "# Licensed under the Apache License, Version 2.0 (the \"License\");\n",
        "# you may not use this file except in compliance with the License.\n",
        "# You may obtain a copy of the License at\n",
        "#\n",
        "#     http://www.apache.org/licenses/LICENSE-2.0\n",
        "#\n",
        "# Unless required by applicable law or agreed to in writing, software\n",
        "# distributed under the License is distributed on an \"AS IS\" BASIS,\n",
        "# WITHOUT WARRANTIES OR CONDITIONS OF ANY KIND, either express or implied.\n",
        "# See the License for the specific language governing permissions and\n",
        "# limitations under the License."
      ],
      "id": "h4YFKsPszEhL"
    },
    {
      "cell_type": "markdown",
      "metadata": {
        "id": "kiyjZSuozEhL"
      },
      "source": [
        "## Setup\n",
        "\n",
        "You will need:\n",
        "\n",
        "- A [Groq API key](https://console.groq.com/keys)\n",
        "- Python 3.10+\n",
        "- Colab secrets enabled to securely access the key."
      ],
      "id": "kiyjZSuozEhL"
    },
    {
      "cell_type": "code",
      "metadata": {
        "colab": {
          "base_uri": "https://localhost:8080/"
        },
        "id": "mVV5QcohzEhM",
        "outputId": "f41f477f-8ff0-4c56-a106-874d9b58728b"
      },
      "execution_count": 2,
      "outputs": [
        {
          "output_type": "stream",
          "name": "stdout",
          "text": [
            "\u001b[?25l   \u001b[90m━━━━━━━━━━━━━━━━━━━━━━━━━━━━━━━━━━━━━━━━\u001b[0m \u001b[32m0.0/126.7 kB\u001b[0m \u001b[31m?\u001b[0m eta \u001b[36m-:--:--\u001b[0m\r\u001b[2K   \u001b[91m━━━━━━━━━━━━━━━━━━━━━━━━━━━━━━━━━━━━━━\u001b[0m\u001b[91m╸\u001b[0m\u001b[90m━\u001b[0m \u001b[32m122.9/126.7 kB\u001b[0m \u001b[31m3.8 MB/s\u001b[0m eta \u001b[36m0:00:01\u001b[0m\r\u001b[2K   \u001b[90m━━━━━━━━━━━━━━━━━━━━━━━━━━━━━━━━━━━━━━━━\u001b[0m \u001b[32m126.7/126.7 kB\u001b[0m \u001b[31m1.8 MB/s\u001b[0m eta \u001b[36m0:00:00\u001b[0m\n",
            "\u001b[?25h"
          ]
        }
      ],
      "source": [
        "!pip install --quiet groq langchain langchain_groq"
      ],
      "id": "mVV5QcohzEhM"
    },
    {
      "cell_type": "code",
      "metadata": {
        "id": "ZUx4IfpozEhM"
      },
      "execution_count": 3,
      "outputs": [],
      "source": [
        "import os\n",
        "from google.colab import userdata\n",
        "\n",
        "# Load your Groq API key from Colab secrets\n",
        "os.environ[\"GROQ_API_KEY\"] = userdata.get(\"GROQ_API_KEY\")"
      ],
      "id": "ZUx4IfpozEhM"
    },
    {
      "cell_type": "markdown",
      "metadata": {
        "id": "3_Mr-eiqzEhM"
      },
      "source": [
        "## Define External Tools (Functions)\n",
        "\n",
        "We define a sample function that fetches weather information."
      ],
      "id": "3_Mr-eiqzEhM"
    },
    {
      "cell_type": "code",
      "metadata": {
        "id": "Mei_tmbxzEhN"
      },
      "execution_count": 27,
      "outputs": [],
      "source": [
        "from langchain.tools import Tool\n",
        "from langchain_groq import ChatGroq\n",
        "from langchain.agents import initialize_agent\n",
        "import re\n",
        "\n",
        "# Define a single-input weather tool\n",
        "def get_current_weather_tool(input_str: str) -> str:\n",
        "    \"\"\"Get the current weather in a location.\"\"\"\n",
        "    # Naive parsing: look for location and optional unit\n",
        "    match = re.search(r\"in (\\w+)\", input_str.lower())\n",
        "    unit_match = re.search(r\"(celsius|fahrenheit)\", input_str.lower())\n",
        "\n",
        "    location = match.group(1) if match else \"unknown\"\n",
        "    unit = unit_match.group(1) if unit_match else \"fahrenheit\"\n",
        "    return f\"Final Answer: The weather in {location.title()} is 72° {unit.title()} and sunny.\"\n",
        "\n",
        "\n"
      ],
      "id": "Mei_tmbxzEhN"
    },
    {
      "cell_type": "markdown",
      "metadata": {
        "id": "CptR20G3zEhN"
      },
      "source": [
        "## Initialize LangChain Agent with Gemma 2 on Groq\n",
        "\n",
        "We'll use `gemma-2-9b-it` via LangChain and bind our tool."
      ],
      "id": "CptR20G3zEhN"
    },
    {
      "cell_type": "code",
      "metadata": {
        "id": "lPs8KrHrzEhO"
      },
      "execution_count": 28,
      "outputs": [],
      "source": [
        "get_current_weather = Tool(\n",
        "    name=\"get_current_weather\",\n",
        "    func=get_current_weather_tool,\n",
        "    description=\"Get the current weather by passing a string like 'What's the weather in Paris in Celsius?'\",\n",
        "    return_direct=True\n",
        ")\n",
        "\n",
        "# Initialize LLM\n",
        "llm = ChatGroq(model=\"gemma-2-9b-it\", temperature=0)\n",
        "\n",
        "# Initialize the agent (no need to bind tools for this setup)\n",
        "agent = initialize_agent(\n",
        "    tools=[get_current_weather],\n",
        "    llm=llm,\n",
        "    agent=\"zero-shot-react-description\",\n",
        "    verbose=True\n",
        ")\n",
        "\n"
      ],
      "id": "lPs8KrHrzEhO"
    },
    {
      "cell_type": "markdown",
      "metadata": {
        "id": "GW8ySM16zEhO"
      },
      "source": [
        "## Run Example Prompt\n",
        "\n",
        "We now run a natural language prompt that should trigger function calling."
      ],
      "id": "GW8ySM16zEhO"
    },
    {
      "cell_type": "code",
      "metadata": {
        "colab": {
          "base_uri": "https://localhost:8080/"
        },
        "id": "hOEhiAj4zEhO",
        "outputId": "b84fd781-5bee-4ec9-e6ba-7c81d109a083"
      },
      "execution_count": 29,
      "outputs": [
        {
          "output_type": "stream",
          "name": "stdout",
          "text": [
            "\n",
            "\n",
            "\u001b[1m> Entering new AgentExecutor chain...\u001b[0m\n",
            "\u001b[32;1m\u001b[1;3mThought: I need to get the current weather in Tokyo, and the user wants the temperature in Fahrenheit. I should use the get_current_weather function to get the current weather.\n",
            "\n",
            "Action: get_current_weather\n",
            "Action Input: What's the weather in Tokyo in Fahrenheit?\u001b[0m\n",
            "Observation: \u001b[36;1m\u001b[1;3mFinal Answer: The weather in Tokyo is 72° Fahrenheit and sunny.\u001b[0m\n",
            "\u001b[32;1m\u001b[1;3m\u001b[0m\n",
            "\n",
            "\u001b[1m> Finished chain.\u001b[0m\n",
            "Final Answer: The weather in Tokyo is 72° Fahrenheit and sunny.\n"
          ]
        }
      ],
      "source": [
        "# Example usage\n",
        "response = agent.run(\"What's the weather in Tokyo in Fahrenheit?\")\n",
        "print(response)"
      ],
      "id": "hOEhiAj4zEhO"
    },
    {
      "cell_type": "markdown",
      "metadata": {
        "id": "CP_OfmvLzEhP"
      },
      "source": [
        "## Conclusion\n",
        "\n",
        "In this notebook, you learned how to:\n",
        "\n",
        "- Connect Gemma 2 (`gemma-2-9b-it`) via Groq using LangChain\n",
        "- Define and bind external tools (functions)\n",
        "- Use natural prompts to trigger function calls via LangChain Agents\n",
        "\n",
        "This is a powerful building block for integrating APIs and logic into LLM workflows."
      ],
      "id": "CP_OfmvLzEhP"
    },
    {
      "cell_type": "code",
      "source": [],
      "metadata": {
        "id": "alxQ6mp12OxP"
      },
      "id": "alxQ6mp12OxP",
      "execution_count": null,
      "outputs": []
    }
  ]
}