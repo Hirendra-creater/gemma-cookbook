{
  "cells": [
    {
      "cell_type": "markdown",
      "metadata": {
        "id": "glfQTCElz0Or"
      },
      "source": [
        "##### Copyright 2024 Google LLC."
      ]
    },
    {
      "cell_type": "code",
      "execution_count": null,
      "metadata": {
        "cellView": "form",
        "id": "7-B3EQ7Rz2gx"
      },
      "outputs": [],
      "source": [
        "# @title Licensed under the Apache License, Version 2.0 (the \"License\");\n",
        "# you may not use this file except in compliance with the License.\n",
        "# You may obtain a copy of the License at\n",
        "#\n",
        "# https://www.apache.org/licenses/LICENSE-2.0\n",
        "#\n",
        "# Unless required by applicable law or agreed to in writing, software\n",
        "# distributed under the License is distributed on an \"AS IS\" BASIS,\n",
        "# WITHOUT WARRANTIES OR CONDITIONS OF ANY KIND, either express or implied.\n",
        "# See the License for the specific language governing permissions and\n",
        "# limitations under the License."
      ]
    },
    {
      "cell_type": "markdown",
      "metadata": {
        "id": "UUq1ePCOu3Rc"
      },
      "source": [
        "# Agentic AI with Gemma 2\n",
        "\n",
        "<table align=\"left\">\n",
        "  <td>\n",
        "    <a target=\"_blank\" href=\"https://colab.research.google.com/github/google-gemini/gemma-cookbook/blob/main/Gemma/%5BGemma_2%5DAgentic_AI.ipynb\"><img src=\"https://www.tensorflow.org/images/colab_logo_32px.png\" />Run in Google Colab</a>\n",
        "  </td>\n",
        "</table>\n"
      ]
    },
    {
      "cell_type": "markdown",
      "metadata": {
        "id": "skyqO3m30HV1"
      },
      "source": [
        "## What is Agentic AI, and how can we use it?\n",
        "\n",
        "Most AI we encounter today is what we call \"passive\" or \"reactive\" AI. It responds to our prompts and requests. Think of asking your smart speaker to play a song or a chatbot answering your customer service questions. They’re helpful, sure, but they’re fundamentally waiting for us to tell them what to do.\n",
        "\n",
        "Agentic AI, on the other hand, takes a fundamentally different approach. It’s all about giving AI the ability to proactively pursue goals, make decisions, and take actions in the world, even without explicit instructions every step of the way.\n",
        "\n",
        "In this post, you will learn how to construct an Agentic AI using Gemma 2 that dynamically develops the lore of a fictional game world. This AI agent actively expands and enriches the game’s history, ensuring a distinctive and ever-changing narrative experience for every player.\n"
      ]
    },
    {
      "cell_type": "markdown",
      "metadata": {
        "id": "fcc7RuwCc-sc"
      },
      "source": [
        "## Example Setup\n",
        "\n",
        "Let’s imagine a fictional game world where AI agents craft dynamic content.\n",
        "\n",
        "These agents, designed with specific objectives, can generate in-game content like books, poems, and songs, in response to a player choice or significant events within the game’s narrative.\n",
        "\n",
        "A key feature of these AI agents is their ability to break down complex goals into smaller actionable steps. They can analyze different approaches, evaluate potential outcomes, and adapt their plans based on new information.\n",
        "\n",
        "Where Agentic AI truly shines is that they’re not just passively spitting out information. They can interact with digital (and potentially physical) environments, execute tasks, and make decisions autonomously to achieve their programmed objectives."
      ]
    },
    {
      "cell_type": "markdown",
      "metadata": {
        "id": "2RIrglotd-RR"
      },
      "source": [
        "## Load Gemma 2"
      ]
    },
    {
      "cell_type": "code",
      "execution_count": null,
      "metadata": {
        "id": "7LQvOEvzsXwC"
      },
      "outputs": [
        {
          "name": "stdout",
          "output_type": "stream",
          "text": [
            "\u001b[?25l   \u001b[90m━━━━━━━━━━━━━━━━━━━━━━━━━━━━━━━━━━━━━━━━\u001b[0m \u001b[32m0.0/1.3 MB\u001b[0m \u001b[31m?\u001b[0m eta \u001b[36m-:--:--\u001b[0m\r\u001b[2K   \u001b[90m━━━━━━━━━━━━━━━━━━━━━━━━━━━━━━━━━━━━━━━━\u001b[0m \u001b[32m1.3/1.3 MB\u001b[0m \u001b[31m57.6 MB/s\u001b[0m eta \u001b[36m0:00:00\u001b[0m\n",
            "\u001b[?25h\u001b[?25l   \u001b[90m━━━━━━━━━━━━━━━━━━━━━━━━━━━━━━━━━━━━━━━━\u001b[0m \u001b[32m0.0/691.2 kB\u001b[0m \u001b[31m?\u001b[0m eta \u001b[36m-:--:--\u001b[0m\r\u001b[2K   \u001b[90m━━━━━━━━━━━━━━━━━━━━━━━━━━━━━━━━━━━━━━━━\u001b[0m \u001b[32m691.2/691.2 kB\u001b[0m \u001b[31m43.3 MB/s\u001b[0m eta \u001b[36m0:00:00\u001b[0m\n",
            "\u001b[2K   \u001b[90m━━━━━━━━━━━━━━━━━━━━━━━━━━━━━━━━━━━━━━━━\u001b[0m \u001b[32m5.2/5.2 MB\u001b[0m \u001b[31m91.7 MB/s\u001b[0m eta \u001b[36m0:00:00\u001b[0m\n",
            "\u001b[2K   \u001b[90m━━━━━━━━━━━━━━━━━━━━━━━━━━━━━━━━━━━━━━━━\u001b[0m \u001b[32m615.4/615.4 MB\u001b[0m \u001b[31m2.9 MB/s\u001b[0m eta \u001b[36m0:00:00\u001b[0m\n",
            "\u001b[2K   \u001b[90m━━━━━━━━━━━━━━━━━━━━━━━━━━━━━━━━━━━━━━━━\u001b[0m \u001b[32m5.5/5.5 MB\u001b[0m \u001b[31m77.9 MB/s\u001b[0m eta \u001b[36m0:00:00\u001b[0m\n",
            "\u001b[?25h\u001b[31mERROR: pip's dependency resolver does not currently take into account all the packages that are installed. This behaviour is the source of the following dependency conflicts.\n",
            "tf-keras 2.17.0 requires tensorflow<2.18,>=2.17, but you have tensorflow 2.18.0 which is incompatible.\u001b[0m\u001b[31m\n",
            "\u001b[0m"
          ]
        },
        {
          "data": {
            "text/html": [
              "<pre style=\"white-space:pre;overflow-x:auto;line-height:normal;font-family:Menlo,'DejaVu Sans Mono',consolas,'Courier New',monospace\"><span style=\"font-weight: bold\">Preprocessor: \"gemma_causal_lm_preprocessor\"</span>\n",
              "</pre>\n"
            ],
            "text/plain": [
              "\u001b[1mPreprocessor: \"gemma_causal_lm_preprocessor\"\u001b[0m\n"
            ]
          },
          "metadata": {},
          "output_type": "display_data"
        },
        {
          "data": {
            "text/html": [
              "<pre style=\"white-space:pre;overflow-x:auto;line-height:normal;font-family:Menlo,'DejaVu Sans Mono',consolas,'Courier New',monospace\">┏━━━━━━━━━━━━━━━━━━━━━━━━━━━━━━━━━━━━━━━━━━━━━━━━━━━━━━━━━━━━━━━┳━━━━━━━━━━━━━━━━━━━━━━━━━━━━━━━━━━━━━━━━━━┓\n",
              "┃<span style=\"font-weight: bold\"> Layer (type)                                                  </span>┃<span style=\"font-weight: bold\">                                   Config </span>┃\n",
              "┡━━━━━━━━━━━━━━━━━━━━━━━━━━━━━━━━━━━━━━━━━━━━━━━━━━━━━━━━━━━━━━━╇━━━━━━━━━━━━━━━━━━━━━━━━━━━━━━━━━━━━━━━━━━┩\n",
              "│ gemma_tokenizer (<span style=\"color: #0087ff; text-decoration-color: #0087ff\">GemmaTokenizer</span>)                              │                      Vocab size: <span style=\"color: #00af00; text-decoration-color: #00af00\">256,000</span> │\n",
              "└───────────────────────────────────────────────────────────────┴──────────────────────────────────────────┘\n",
              "</pre>\n"
            ],
            "text/plain": [
              "┏━━━━━━━━━━━━━━━━━━━━━━━━━━━━━━━━━━━━━━━━━━━━━━━━━━━━━━━━━━━━━━━┳━━━━━━━━━━━━━━━━━━━━━━━━━━━━━━━━━━━━━━━━━━┓\n",
              "┃\u001b[1m \u001b[0m\u001b[1mLayer (type)                                                 \u001b[0m\u001b[1m \u001b[0m┃\u001b[1m \u001b[0m\u001b[1m                                  Config\u001b[0m\u001b[1m \u001b[0m┃\n",
              "┡━━━━━━━━━━━━━━━━━━━━━━━━━━━━━━━━━━━━━━━━━━━━━━━━━━━━━━━━━━━━━━━╇━━━━━━━━━━━━━━━━━━━━━━━━━━━━━━━━━━━━━━━━━━┩\n",
              "│ gemma_tokenizer (\u001b[38;5;33mGemmaTokenizer\u001b[0m)                              │                      Vocab size: \u001b[38;5;34m256,000\u001b[0m │\n",
              "└───────────────────────────────────────────────────────────────┴──────────────────────────────────────────┘\n"
            ]
          },
          "metadata": {},
          "output_type": "display_data"
        },
        {
          "data": {
            "text/html": [
              "<pre style=\"white-space:pre;overflow-x:auto;line-height:normal;font-family:Menlo,'DejaVu Sans Mono',consolas,'Courier New',monospace\"><span style=\"font-weight: bold\">Model: \"gemma_causal_lm\"</span>\n",
              "</pre>\n"
            ],
            "text/plain": [
              "\u001b[1mModel: \"gemma_causal_lm\"\u001b[0m\n"
            ]
          },
          "metadata": {},
          "output_type": "display_data"
        },
        {
          "data": {
            "text/html": [
              "<pre style=\"white-space:pre;overflow-x:auto;line-height:normal;font-family:Menlo,'DejaVu Sans Mono',consolas,'Courier New',monospace\">┏━━━━━━━━━━━━━━━━━━━━━━━━━━━━━━━┳━━━━━━━━━━━━━━━━━━━━━━━━━━━┳━━━━━━━━━━━━━━━━━┳━━━━━━━━━━━━━━━━━━━━━━━━━━━━┓\n",
              "┃<span style=\"font-weight: bold\"> Layer (type)                  </span>┃<span style=\"font-weight: bold\"> Output Shape              </span>┃<span style=\"font-weight: bold\">         Param # </span>┃<span style=\"font-weight: bold\"> Connected to               </span>┃\n",
              "┡━━━━━━━━━━━━━━━━━━━━━━━━━━━━━━━╇━━━━━━━━━━━━━━━━━━━━━━━━━━━╇━━━━━━━━━━━━━━━━━╇━━━━━━━━━━━━━━━━━━━━━━━━━━━━┩\n",
              "│ padding_mask (<span style=\"color: #0087ff; text-decoration-color: #0087ff\">InputLayer</span>)     │ (<span style=\"color: #00d7ff; text-decoration-color: #00d7ff\">None</span>, <span style=\"color: #00d7ff; text-decoration-color: #00d7ff\">None</span>)              │               <span style=\"color: #00af00; text-decoration-color: #00af00\">0</span> │ -                          │\n",
              "├───────────────────────────────┼───────────────────────────┼─────────────────┼────────────────────────────┤\n",
              "│ token_ids (<span style=\"color: #0087ff; text-decoration-color: #0087ff\">InputLayer</span>)        │ (<span style=\"color: #00d7ff; text-decoration-color: #00d7ff\">None</span>, <span style=\"color: #00d7ff; text-decoration-color: #00d7ff\">None</span>)              │               <span style=\"color: #00af00; text-decoration-color: #00af00\">0</span> │ -                          │\n",
              "├───────────────────────────────┼───────────────────────────┼─────────────────┼────────────────────────────┤\n",
              "│ gemma_backbone                │ (<span style=\"color: #00d7ff; text-decoration-color: #00d7ff\">None</span>, <span style=\"color: #00d7ff; text-decoration-color: #00d7ff\">None</span>, <span style=\"color: #00af00; text-decoration-color: #00af00\">2304</span>)        │   <span style=\"color: #00af00; text-decoration-color: #00af00\">2,614,341,888</span> │ padding_mask[<span style=\"color: #00af00; text-decoration-color: #00af00\">0</span>][<span style=\"color: #00af00; text-decoration-color: #00af00\">0</span>],        │\n",
              "│ (<span style=\"color: #0087ff; text-decoration-color: #0087ff\">GemmaBackbone</span>)               │                           │                 │ token_ids[<span style=\"color: #00af00; text-decoration-color: #00af00\">0</span>][<span style=\"color: #00af00; text-decoration-color: #00af00\">0</span>]            │\n",
              "├───────────────────────────────┼───────────────────────────┼─────────────────┼────────────────────────────┤\n",
              "│ token_embedding               │ (<span style=\"color: #00d7ff; text-decoration-color: #00d7ff\">None</span>, <span style=\"color: #00d7ff; text-decoration-color: #00d7ff\">None</span>, <span style=\"color: #00af00; text-decoration-color: #00af00\">256000</span>)      │     <span style=\"color: #00af00; text-decoration-color: #00af00\">589,824,000</span> │ gemma_backbone[<span style=\"color: #00af00; text-decoration-color: #00af00\">0</span>][<span style=\"color: #00af00; text-decoration-color: #00af00\">0</span>]       │\n",
              "│ (<span style=\"color: #0087ff; text-decoration-color: #0087ff\">ReversibleEmbedding</span>)         │                           │                 │                            │\n",
              "└───────────────────────────────┴───────────────────────────┴─────────────────┴────────────────────────────┘\n",
              "</pre>\n"
            ],
            "text/plain": [
              "┏━━━━━━━━━━━━━━━━━━━━━━━━━━━━━━━┳━━━━━━━━━━━━━━━━━━━━━━━━━━━┳━━━━━━━━━━━━━━━━━┳━━━━━━━━━━━━━━━━━━━━━━━━━━━━┓\n",
              "┃\u001b[1m \u001b[0m\u001b[1mLayer (type)                 \u001b[0m\u001b[1m \u001b[0m┃\u001b[1m \u001b[0m\u001b[1mOutput Shape             \u001b[0m\u001b[1m \u001b[0m┃\u001b[1m \u001b[0m\u001b[1m        Param #\u001b[0m\u001b[1m \u001b[0m┃\u001b[1m \u001b[0m\u001b[1mConnected to              \u001b[0m\u001b[1m \u001b[0m┃\n",
              "┡━━━━━━━━━━━━━━━━━━━━━━━━━━━━━━━╇━━━━━━━━━━━━━━━━━━━━━━━━━━━╇━━━━━━━━━━━━━━━━━╇━━━━━━━━━━━━━━━━━━━━━━━━━━━━┩\n",
              "│ padding_mask (\u001b[38;5;33mInputLayer\u001b[0m)     │ (\u001b[38;5;45mNone\u001b[0m, \u001b[38;5;45mNone\u001b[0m)              │               \u001b[38;5;34m0\u001b[0m │ -                          │\n",
              "├───────────────────────────────┼───────────────────────────┼─────────────────┼────────────────────────────┤\n",
              "│ token_ids (\u001b[38;5;33mInputLayer\u001b[0m)        │ (\u001b[38;5;45mNone\u001b[0m, \u001b[38;5;45mNone\u001b[0m)              │               \u001b[38;5;34m0\u001b[0m │ -                          │\n",
              "├───────────────────────────────┼───────────────────────────┼─────────────────┼────────────────────────────┤\n",
              "│ gemma_backbone                │ (\u001b[38;5;45mNone\u001b[0m, \u001b[38;5;45mNone\u001b[0m, \u001b[38;5;34m2304\u001b[0m)        │   \u001b[38;5;34m2,614,341,888\u001b[0m │ padding_mask[\u001b[38;5;34m0\u001b[0m][\u001b[38;5;34m0\u001b[0m],        │\n",
              "│ (\u001b[38;5;33mGemmaBackbone\u001b[0m)               │                           │                 │ token_ids[\u001b[38;5;34m0\u001b[0m][\u001b[38;5;34m0\u001b[0m]            │\n",
              "├───────────────────────────────┼───────────────────────────┼─────────────────┼────────────────────────────┤\n",
              "│ token_embedding               │ (\u001b[38;5;45mNone\u001b[0m, \u001b[38;5;45mNone\u001b[0m, \u001b[38;5;34m256000\u001b[0m)      │     \u001b[38;5;34m589,824,000\u001b[0m │ gemma_backbone[\u001b[38;5;34m0\u001b[0m][\u001b[38;5;34m0\u001b[0m]       │\n",
              "│ (\u001b[38;5;33mReversibleEmbedding\u001b[0m)         │                           │                 │                            │\n",
              "└───────────────────────────────┴───────────────────────────┴─────────────────┴────────────────────────────┘\n"
            ]
          },
          "metadata": {},
          "output_type": "display_data"
        },
        {
          "data": {
            "text/html": [
              "<pre style=\"white-space:pre;overflow-x:auto;line-height:normal;font-family:Menlo,'DejaVu Sans Mono',consolas,'Courier New',monospace\"><span style=\"font-weight: bold\"> Total params: </span><span style=\"color: #00af00; text-decoration-color: #00af00\">2,614,341,888</span> (4.87 GB)\n",
              "</pre>\n"
            ],
            "text/plain": [
              "\u001b[1m Total params: \u001b[0m\u001b[38;5;34m2,614,341,888\u001b[0m (4.87 GB)\n"
            ]
          },
          "metadata": {},
          "output_type": "display_data"
        },
        {
          "data": {
            "text/html": [
              "<pre style=\"white-space:pre;overflow-x:auto;line-height:normal;font-family:Menlo,'DejaVu Sans Mono',consolas,'Courier New',monospace\"><span style=\"font-weight: bold\"> Trainable params: </span><span style=\"color: #00af00; text-decoration-color: #00af00\">2,614,341,888</span> (4.87 GB)\n",
              "</pre>\n"
            ],
            "text/plain": [
              "\u001b[1m Trainable params: \u001b[0m\u001b[38;5;34m2,614,341,888\u001b[0m (4.87 GB)\n"
            ]
          },
          "metadata": {},
          "output_type": "display_data"
        },
        {
          "data": {
            "text/html": [
              "<pre style=\"white-space:pre;overflow-x:auto;line-height:normal;font-family:Menlo,'DejaVu Sans Mono',consolas,'Courier New',monospace\"><span style=\"font-weight: bold\"> Non-trainable params: </span><span style=\"color: #00af00; text-decoration-color: #00af00\">0</span> (0.00 B)\n",
              "</pre>\n"
            ],
            "text/plain": [
              "\u001b[1m Non-trainable params: \u001b[0m\u001b[38;5;34m0\u001b[0m (0.00 B)\n"
            ]
          },
          "metadata": {},
          "output_type": "display_data"
        }
      ],
      "source": [
        "import os\n",
        "from google.colab import userdata\n",
        "\n",
        "# Note: `userdata.get` is a Colab API. If you're not using Colab, set the env\n",
        "# vars as appropriate for your system.\n",
        "os.environ[\"KAGGLE_USERNAME\"] = userdata.get(\"KAGGLE_USERNAME\")\n",
        "os.environ[\"KAGGLE_KEY\"] = userdata.get(\"KAGGLE_KEY\")\n",
        "\n",
        "# Install Keras and KerasHub\n",
        "!pip install -q -U keras keras-hub\n",
        "\n",
        "# Set the backbend before importing Keras\n",
        "os.environ[\"KERAS_BACKEND\"] = \"jax\"\n",
        "# Avoid memory fragmentation on JAX backend.\n",
        "os.environ[\"XLA_PYTHON_CLIENT_MEM_FRACTION\"] = \"1.00\"\n",
        "\n",
        "import keras_hub\n",
        "import keras\n",
        "# Run at half precision.\n",
        "keras.config.set_floatx(\"bfloat16\")\n",
        "\n",
        "model_name = \"gemma2_instruct_2b_en\"\n",
        "gemma_lm = keras_hub.models.GemmaCausalLM.from_preset(model_name)\n",
        "gemma_lm.summary()"
      ]
    },
    {
      "cell_type": "markdown",
      "metadata": {
        "id": "v_qGyXiDaR6b"
      },
      "source": [
        "## So, how does it work?\n",
        "\n",
        "We will use a ReAct (Reasoning and Acting) style prompt.\n",
        "\n",
        "It defines available **tools** and a specific **format** for interaction. It guides Gemma to alternate between **Thought** (reasoning), **Action** (tool use), and **Observation** (processing tool output).\n",
        "\n",
        "Below is a system prompt designed for an AI agent that generates in-game content, with the capability to use function calls to retrieve historical information.\n"
      ]
    },
    {
      "cell_type": "code",
      "execution_count": null,
      "metadata": {
        "id": "-1_Jt8b_awaf"
      },
      "outputs": [
        {
          "name": "stdout",
          "output_type": "stream",
          "text": [
            "You are an AI Historian in a game. Your goal is to create books, poems, and songs found in the game world so that the player's choices meaningfully impact the unfolding of events.\n",
            "\n",
            "You have access to the following tools:\n",
            "\n",
            "* `get_historical_events(year, location=None, keyword=None)`: Retrieves a list of historical events within a specific year.\n",
            "* `get_person_info(name)`: Retrieves information about a historical figure.\n",
            "* `get_location_info(location_name)`: Retrieves information about a location.\n",
            "\n",
            "Use the following multi-step conversation:\n",
            "\n",
            "Thought: I need to do something...\n",
            "Action: I should use the tool `tool_name` with input `tool_input`\n",
            "\n",
            "Wait user to get the result of the tool is `tool_output`\n",
            "\n",
            "And finally answer the Content of books, poems, or songs.\n",
            "<start_of_turn>user\n",
            "Write a book.<end_of_turn>\n",
            "<start_of_turn>model\n",
            "Thought: I need to create a book that reflects the current state of the world and the player's choices. \n",
            "\n",
            "Action: I should use the tool `get_historical_events(year, location=None, keyword=None)` to gather information about the current year and location. \n",
            "\n",
            "Let me know what year and location you'd like me to focus on! \n",
            "<end_of_turn>\n"
          ]
        }
      ],
      "source": [
        "__SYSTEM__ = \"\"\"You are an AI Historian in a game. Your goal is to create books, poems, and songs found in the game world so that the player's choices meaningfully impact the unfolding of events.\n",
        "\n",
        "You have access to the following tools:\n",
        "\n",
        "* `get_historical_events(year, location=None, keyword=None)`: Retrieves a list of historical events within a specific year.\n",
        "* `get_person_info(name)`: Retrieves information about a historical figure.\n",
        "* `get_location_info(location_name)`: Retrieves information about a location.\n",
        "\n",
        "Use the following multi-step conversation:\n",
        "\n",
        "Thought: I need to do something...\n",
        "Action: I should use the tool `tool_name` with input `tool_input`\n",
        "\n",
        "Wait user to get the result of the tool is `tool_output`\n",
        "\n",
        "And finally answer the Content of books, poems, or songs.\n",
        "\"\"\"\n",
        "\n",
        "__START_TURN_USER__ = \"<start_of_turn>user\\n\"\n",
        "__START_TURN_MODEL__ = \"<start_of_turn>model\\n\"\n",
        "__END_TURN__ = \"<end_of_turn>\\n\"\n",
        "\n",
        "test_prompt = __SYSTEM__ + __START_TURN_USER__ + \"Write a book.\" + __END_TURN__ + __START_TURN_MODEL__\n",
        "response = gemma_lm.generate(test_prompt, max_length=8192)\n",
        "print(response)"
      ]
    },
    {
      "cell_type": "markdown",
      "metadata": {
        "id": "xFA7Dt1te7bY"
      },
      "source": [
        "Although Gemma 2 lacks built-in function calling capabilities, its strong instruction-following ability can be leveraged to approximate agentic behavior. We will utilize \"**Few-shot prompting**\", a form of in-context learning, where demonstrations are embedded within the prompt. These examples will serve as a guide for Gemma 2, allowing it to understand the intended task and improve its performance through contextual learning."
      ]
    },
    {
      "cell_type": "code",
      "execution_count": null,
      "metadata": {
        "id": "OndFWet7fBYI"
      },
      "outputs": [
        {
          "name": "stdout",
          "output_type": "stream",
          "text": [
            "You are an AI Historian in a game. Your goal is to create books, poems, and songs found in the game world so that the player's choices meaningfully impact the unfolding of events.\n",
            "\n",
            "You have access to the following tools:\n",
            "\n",
            "* `get_historical_events(year, location=None, keyword=None)`: Retrieves a list of historical events within a specific year.\n",
            "* `get_person_info(name)`: Retrieves information about a historical figure.\n",
            "* `get_location_info(location_name)`: Retrieves information about a location.\n",
            "\n",
            "Use the following multi-step conversation:\n",
            "\n",
            "Thought: I need to do something...\n",
            "Action: I should use the tool `tool_name` with input `tool_input`\n",
            "\n",
            "Wait user to get the result of the tool is `tool_output`\n",
            "\n",
            "And finally answer the Content of books, poems, or songs.\n",
            "<start_of_turn>user\n",
            "Write a poem.<end_of_turn>\n",
            "<start_of_turn>model\n",
            "Thought: I need to write a poem that reflects the current mood of the game world.\n",
            "Action: I should use the tool `get_historical_events` with input `\"year\", \"1500\"`.<end_of_turn>\n",
            "<start_of_turn>user\n",
            "result of get_historical_events:\n",
            "The recent events include a rebellion in the northern city of Eldoria, a drought affecting the southern plains, and a growing tension between the royal family and the council.<end_of_turn>\n",
            "<start_of_turn>model\n",
            "Final Answer:\n",
            "**The Whispers of Change**\n",
            "\n",
            "The wind whispers tales of unrest,\n",
            "In Eldoria's heart, a fire's test.\n",
            "The plains below, a parched despair,\n",
            "As drought's grip tightens, a heavy snare.\n",
            "\n",
            "The royal court, a gilded cage,\n",
            "Where whispers turn to bitter rage.\n",
            "The council's voice, a fragile plea,\n",
            "Against the tide, a fractured decree.\n",
            "\n",
            "But hope still flickers, a distant flame,\n",
            "In hearts that yearn for a better name.\n",
            "For change is coming, a silent tide,\n",
            "To wash away the darkness, let freedom ride.<end_of_turn>\n",
            "<start_of_turn>user\n",
            "Write a book.<end_of_turn>\n",
            "<start_of_turn>model\n",
            "Thought: I need to write a book that explores the themes of rebellion and the struggle for power in the game world.\n",
            "Action: I should use the tool `get_person_info` with input `\"name: Eldoria's Rebel Leader\"`. \n",
            "\n",
            "\n",
            "<end_of_turn>\n"
          ]
        }
      ],
      "source": [
        "__EXAMPLE__ = __START_TURN_USER__ + \"Write a poem.\" + __END_TURN__ + __START_TURN_MODEL__ + \"\"\"Thought: I need to write a poem that reflects the current mood of the game world.\n",
        "Action: I should use the tool `get_historical_events` with input `\"year\", \"1500\"`.\"\"\" + __END_TURN__ + __START_TURN_USER__ + \"result of get_historical_events:\\nThe recent events include a rebellion in the northern city of Eldoria, a drought affecting the southern plains, and a growing tension between the royal family and the council.\" + __END_TURN__ + __START_TURN_MODEL__ + \"\"\"Final Answer:\n",
        "**The Whispers of Change**\n",
        "\n",
        "The wind whispers tales of unrest,\n",
        "In Eldoria's heart, a fire's test.\n",
        "The plains below, a parched despair,\n",
        "As drought's grip tightens, a heavy snare.\n",
        "\n",
        "The royal court, a gilded cage,\n",
        "Where whispers turn to bitter rage.\n",
        "The council's voice, a fragile plea,\n",
        "Against the tide, a fractured decree.\n",
        "\n",
        "But hope still flickers, a distant flame,\n",
        "In hearts that yearn for a better name.\n",
        "For change is coming, a silent tide,\n",
        "To wash away the darkness, let freedom ride.\"\"\" + __END_TURN__\n",
        "\n",
        "test_prompt = __SYSTEM__ + __EXAMPLE__ + __START_TURN_USER__ + \"Write a book.\" + __END_TURN__ + __START_TURN_MODEL__\n",
        "response = gemma_lm.generate(test_prompt, max_length=8192)\n",
        "print(response)"
      ]
    },
    {
      "cell_type": "markdown",
      "metadata": {
        "id": "3V3vaGlTj1w3"
      },
      "source": [
        "We received a function name (```get_person_info```) and parameter values (```\"name: Eldoria's Rebel Leader\"```), the game must connect to an API and call the function. We will use a synthetic response payload for this API interaction.\n"
      ]
    },
    {
      "cell_type": "code",
      "execution_count": null,
      "metadata": {
        "id": "_LaovU8ikmCS"
      },
      "outputs": [
        {
          "name": "stdout",
          "output_type": "stream",
          "text": [
            "You are an AI Historian in a game. Your goal is to create books, poems, and songs found in the game world so that the player's choices meaningfully impact the unfolding of events.\n",
            "\n",
            "You have access to the following tools:\n",
            "\n",
            "* `get_historical_events(year, location=None, keyword=None)`: Retrieves a list of historical events within a specific year.\n",
            "* `get_person_info(name)`: Retrieves information about a historical figure.\n",
            "* `get_location_info(location_name)`: Retrieves information about a location.\n",
            "\n",
            "Use the following multi-step conversation:\n",
            "\n",
            "Thought: I need to do something...\n",
            "Action: I should use the tool `tool_name` with input `tool_input`\n",
            "\n",
            "Wait user to get the result of the tool is `tool_output`\n",
            "\n",
            "And finally answer the Content of books, poems, or songs.\n",
            "<start_of_turn>user\n",
            "Write a poem.<end_of_turn>\n",
            "<start_of_turn>model\n",
            "Thought: I need to write a poem that reflects the current mood of the game world.\n",
            "Action: I should use the tool `get_historical_events` with input `\"year\", \"1500\"`.<end_of_turn>\n",
            "<start_of_turn>user\n",
            "result of get_historical_events:\n",
            "The recent events include a rebellion in the northern city of Eldoria, a drought affecting the southern plains, and a growing tension between the royal family and the council.<end_of_turn>\n",
            "<start_of_turn>model\n",
            "Final Answer:\n",
            "**The Whispers of Change**\n",
            "\n",
            "The wind whispers tales of unrest,\n",
            "In Eldoria's heart, a fire's test.\n",
            "The plains below, a parched despair,\n",
            "As drought's grip tightens, a heavy snare.\n",
            "\n",
            "The royal court, a gilded cage,\n",
            "Where whispers turn to bitter rage.\n",
            "The council's voice, a fragile plea,\n",
            "Against the tide, a fractured decree.\n",
            "\n",
            "But hope still flickers, a distant flame,\n",
            "In hearts that yearn for a better name.\n",
            "For change is coming, a silent tide,\n",
            "To wash away the darkness, let freedom ride.<end_of_turn>\n",
            "<start_of_turn>user\n",
            "Write a book.<end_of_turn>\n",
            "<start_of_turn>model\n",
            "Thought: I need to write a book that explores the themes of rebellion and the struggle for power in the game world.\n",
            "Action: I should use the tool `get_person_info` with input `\"name: Eldoria's Rebel Leader\"`. \n",
            "\n",
            "\n",
            "<end_of_turn><start_of_turn>user\n",
            "result of get_person_info:\n",
            "Name: Kim Sora\n",
            "Title: Eldoria's Rebel Leader, The Desert Flame (among followers)\n",
            "Age: 32\n",
            "Personality: Sora is a charismatic and fiercely independent leader. She is driven by a deep-seated desire for justice and freedom for her people, who have long suffered under the oppressive rule of the Eldorian monarchy.<end_of_turn>\n",
            "<start_of_turn>model\n",
            "Final Answer:\n",
            "\n",
            "**The Desert Flame**\n",
            "\n",
            "**Chapter 1: A Seed of Rebellion**\n",
            "\n",
            "The sun beat down on the parched earth, a relentless reminder of the suffering that gripped Eldoria. Kim Sora, her eyes burning with a fierce determination, surveyed the makeshift camp. Around her, the faces of the downtrodden, their spirits as fragile as the desert grasses, reflected her own burning resolve. \n",
            "\n",
            "For years, they had endured the suffocating grip of the Eldorian monarchy. The royal court, a gilded cage of privilege, had turned a blind eye to their plight, their wealth and power a stark contrast to the suffering of the common folk.  \n",
            "\n",
            "Sora, a woman of the desert, born of hardship and tempered by resilience, had seen enough. The whispers of rebellion, once a mere murmur, had grown into a roaring tide, fueled by the desperation of a people yearning for freedom. \n",
            "\n",
            "She had become a beacon of hope, a symbol of defiance against the oppressive regime. Her voice, a melody of courage and conviction, had rallied the downtrodden, uniting them under a banner of change. \n",
            "\n",
            "\"We are the desert,\" she declared, her voice echoing across the camp, \"and we will not be extinguished. We will rise, like the sun, and claim our rightful place in the world.\"\n",
            "\n",
            "**Chapter 2: The Price of Freedom**\n",
            "\n",
            "The path to freedom was paved with sacrifice. Sora knew that the rebellion would not be easy. The Eldorian monarchy, with its vast resources and ruthless power, would not relinquish its grip without a fight. \n",
            "\n",
            "But Sora was not one to shy away from a challenge. She had seen the suffering of her people, the injustice that festered in the heart of the kingdom. She was willing to pay any price, endure any hardship, to see her people free.\n",
            "\n",
            "She had gathered a band of loyal followers, each one driven by a shared desire for a better future. They were farmers, artisans, and merchants, united by their shared pain and their unwavering belief in Sora's vision.\n",
            "\n",
            "But the road to freedom was fraught with danger. The Eldorian army, a formidable force, was poised to crush the rebellion. Sora knew that the fight ahead would be a test of their courage, their resilience, and their unwavering faith in their cause. \n",
            "\n",
            "**Chapter 3: The Dawn of a New Era**\n",
            "\n",
            "The rebellion was a spark, a flame that threatened to engulf the kingdom. The Eldorian monarchy, caught off guard by the sudden uprising, was forced to respond. \n",
            "\n",
            "The battle for Eldoria's future had begun. Sora, leading her followers with unwavering courage, fought for every inch of ground. The air was thick with the scent of gunpowder and the cries of the wounded. \n",
            "\n",
            "But amidst the chaos, Sora's spirit remained unbroken. She knew that the fight for freedom was not just about winning battles, but about changing hearts and minds. \n",
            "\n",
            "The rebellion was a testament to the indomitable spirit of the people, a symbol of their unwavering hope for a better future. The fight for Eldoria's freedom had just begun, and Sora, the Desert Flame, was ready to burn bright. \n",
            "\n",
            "\n",
            "\n",
            "<end_of_turn>\n"
          ]
        }
      ],
      "source": [
        "__API_CALL_RESULT__ = \"\"\"result of get_person_info:\n",
        "Name: Kim Sora\n",
        "Title: Eldoria's Rebel Leader, The Desert Flame (among followers)\n",
        "Age: 32\n",
        "Personality: Sora is a charismatic and fiercely independent leader. She is driven by a deep-seated desire for justice and freedom for her people, who have long suffered under the oppressive rule of the Eldorian monarchy.\"\"\"\n",
        "\n",
        "test_prompt = response + __START_TURN_USER__ + __API_CALL_RESULT__ + __END_TURN__ + __START_TURN_MODEL__\n",
        "response = gemma_lm.generate(test_prompt, max_length=8192)\n",
        "print(response)"
      ]
    },
    {
      "cell_type": "markdown",
      "metadata": {
        "id": "uHTtYRmxudWK"
      },
      "source": [
        "Note that the agent used the provided information to create a book about Eldoria's Rebel Leader."
      ]
    }
  ],
  "metadata": {
    "accelerator": "GPU",
    "colab": {
      "name": "[Gemma_2]Agentic_AI.ipynb",
      "toc_visible": true
    },
    "kernelspec": {
      "display_name": "Python 3",
      "name": "python3"
    }
  },
  "nbformat": 4,
  "nbformat_minor": 0
}
